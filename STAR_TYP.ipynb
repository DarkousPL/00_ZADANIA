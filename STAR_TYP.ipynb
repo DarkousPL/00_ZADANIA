{
 "cells": [
  {
   "cell_type": "code",
   "execution_count": null,
   "metadata": {},
   "outputs": [],
   "source": [
    "import os\n",
    "import pandas as pd\n",
    "\n",
    "rootdir = r'C:\\Users\\Darkous\\00_ZADANIA\\src\\England'\n",
    "\n",
    "for subdir, dirs, files in os.walk(rootdir):\n",
    "    for file in files:\n",
    "        if '.csv' in file:\n",
    "            print(subdir[-7:-3])\n",
    "            print(rootdir[(rootdir.rfind('\\\\'))+1:])\n",
    "            #print(os.path.join(subdir, file))"
   ]
  },
  {
   "cell_type": "code",
   "execution_count": null,
   "metadata": {
    "scrolled": true
   },
   "outputs": [],
   "source": [
    "def glue_files(footpath):\n",
    "    appended_data = []\n",
    "    df = pd.read_csv(footpath)\n",
    "    \n",
    "    appended_data.append(df)\n",
    "    \n",
    "    appended_data = pd.concat(appended_data)\n",
    "\n",
    "    "
   ]
  },
  {
   "cell_type": "code",
   "execution_count": null,
   "metadata": {},
   "outputs": [],
   "source": [
    "appended_data = []\n",
    "\n",
    "data1 = rootdir + r'\\1880s\\1888-89\\1-division1.csv'\n",
    "data2 = rootdir + r'\\1880s\\1889-90\\1-division1.csv'"
   ]
  },
  {
   "cell_type": "code",
   "execution_count": null,
   "metadata": {},
   "outputs": [],
   "source": [
    "#szukaj kraju z linka\n",
    "country = rootdir[(rootdir.rfind('\\\\'))+1:]\n",
    "\n",
    "# Append additional information to df\n",
    "df = pd.read_csv(data1)\n",
    "df['Country'] = country\n",
    "df['YearMatch'] = df['Date'].str.extract('(\\d\\d\\d\\d)', expand=True)\n",
    "\n",
    "df.loc[df['FT'] != '?', 'Team1ScoreFT'] = df['FT'].str[:1] \n",
    "df.loc[df['FT'] != '?', 'Team2ScoreFT'] = df['FT'].str[2:3]\n",
    "\n",
    "df.loc[df['HT'] != '?', 'Team1ScoreHT'] = df['HT'].str[:1]\n",
    "df.loc[df['HT'] != '?', 'Team2ScoreHT'] = df['HT'].str[2:3]\n",
    "\n",
    "df['Team_1'] = df['Team 1'].str.extract('(\\w*\\s\\w*\\s\\w*)', expand=True)\n",
    "df['Team_2'] = df['Team 2'].str.extract('(\\w*\\s\\w*\\s\\w*)', expand=True)\n",
    "\n",
    "df"
   ]
  }
 ],
 "metadata": {
  "kernelspec": {
   "display_name": "Python 3",
   "language": "python",
   "name": "python3"
  },
  "language_info": {
   "codemirror_mode": {
    "name": "ipython",
    "version": 3
   },
   "file_extension": ".py",
   "mimetype": "text/x-python",
   "name": "python",
   "nbconvert_exporter": "python",
   "pygments_lexer": "ipython3",
   "version": "3.7.1"
  }
 },
 "nbformat": 4,
 "nbformat_minor": 2
}
