{
 "cells": [
  {
   "cell_type": "code",
   "execution_count": null,
   "metadata": {
    "scrolled": true
   },
   "outputs": [],
   "source": [
    "# Create function to work\n",
    "def glue_files(rootdir, subdir, file):\n",
    "    \n",
    "    country = rootdir[(rootdir.rfind('\\\\'))+1:]\n",
    "    df = pd.read_csv(subdir + '\\\\' + file)\n",
    "    \n",
    "    df['Country'] = country\n",
    "    df['YearMatch'] = df['Date'].str.extract('(\\d\\d\\d\\d)', expand=True)\n",
    "\n",
    "    df.loc[df['FT'] != '?', 'Team1ScoreFT'] = df['FT'].str[:1] \n",
    "    df.loc[df['FT'] != '?', 'Team2ScoreFT'] = df['FT'].str[2:3]\n",
    "\n",
    "    df.loc[df['HT'] != '?', 'Team1ScoreHT'] = df['HT'].str[:1]\n",
    "    df.loc[df['HT'] != '?', 'Team2ScoreHT'] = df['HT'].str[2:3]\n",
    "\n",
    "    df['Team_1'] = df['Team 1'].str.extract('(\\w*\\s\\w*\\s\\w*)', expand=True)\n",
    "    df['Team_2'] = df['Team 2'].str.extract('(\\w*\\s\\w*\\s\\w*)', expand=True)\n",
    "    return df\n",
    "    "
   ]
  },
  {
   "cell_type": "code",
   "execution_count": null,
   "metadata": {
    "scrolled": true
   },
   "outputs": [],
   "source": [
    "import os\n",
    "import pandas as pd\n",
    "\n",
    "rootdir = r'C:\\Users\\Darkous\\00_ZADANIA\\src\\England'\n",
    "\n",
    "appended_data = []\n",
    "for subdir, dirs, files in os.walk(rootdir):\n",
    "    for file in files:\n",
    "        if '.csv' in file:\n",
    "            #glue_files(rootdir, subdir, file)\n",
    "            #print(len(glue_files(rootdir, subdir, file)), subdir, file)\n",
    "            appended_data.append(glue_files(rootdir, subdir, file))\n",
    "    \n",
    "appended_data = pd.concat(appended_data)            \n",
    "#appended_data        "
   ]
  }
 ],
 "metadata": {
  "kernelspec": {
   "display_name": "Python 3",
   "language": "python",
   "name": "python3"
  },
  "language_info": {
   "codemirror_mode": {
    "name": "ipython",
    "version": 3
   },
   "file_extension": ".py",
   "mimetype": "text/x-python",
   "name": "python",
   "nbconvert_exporter": "python",
   "pygments_lexer": "ipython3",
   "version": "3.7.1"
  }
 },
 "nbformat": 4,
 "nbformat_minor": 2
}
