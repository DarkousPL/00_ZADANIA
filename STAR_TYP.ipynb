{
 "cells": [
  {
   "cell_type": "code",
   "execution_count": null,
   "metadata": {
    "scrolled": true
   },
   "outputs": [],
   "source": [
    "# Create function to work\n",
    "def glue_files(rootdir, subdir, file):\n",
    "    \n",
    "    country = rootdir[(rootdir.rfind('\\\\'))+1:]\n",
    "    df = pd.read_csv(subdir + '\\\\' + file)\n",
    "    \n",
    "    df['Country'] = country\n",
    "    df['YearMatch'] = df['Date'].str.extract('(\\d\\d\\d\\d)', expand=True)\n",
    "\n",
    "#     df.loc[df['FT'] != '?', 'Team1ScoreFT'] = df['FT'].str.extract('(^\\d+)')\n",
    "#     df.loc[df['FT'] != '?', 'Team2ScoreFT'] = df['FT'].str.extract('(\\d+$)')\n",
    "#     df.loc[df['HT'] != '?', 'Team1ScoreHT'] = df['HT'].str.extract('(^\\d+)', expand=True)\n",
    "#     df.loc[df['HT'] != '?', 'Team2ScoreHT'] = df['HT'].str.extract('(\\d+$)', expand=True)\n",
    "\n",
    "    df['Team1ScoreFT'] = df['FT'].str.extract('(^\\d+)', expand=True)\n",
    "    df['Team2ScoreFT'] = df['FT'].str.extract('(\\d+$)', expand=True)\n",
    "\n",
    "    df['Team1ScoreHT'] = df['HT'].str.extract('(^\\d+)', expand=True)\n",
    "    df['Team2ScoreHT'] = df['HT'].str.extract('(\\d+$)', expand=True)\n",
    "    \n",
    "    df['Team_1_wonFT'] = np.where(df['Team1ScoreFT'] > df['Team2ScoreFT'], 1, 0)\n",
    "    df['Team_2_wonFT'] = np.where(df['Team1ScoreFT'] < df['Team2ScoreFT'], 1, 0)\n",
    "    \n",
    "    df['Team_1_wonHT'] = np.where(df['Team1ScoreHT'] > df['Team2ScoreHT'], 1, 0)\n",
    "    df['Team_2_wonHT'] = np.where(df['Team1ScoreHT'] < df['Team2ScoreHT'], 1, 0)\n",
    "    \n",
    "    df['Team_2'] = df['Team 2'].str.extract('([\\w\\s]+)', expand=True)\n",
    "    df['Team_1'] = df['Team 1'].str.extract('([\\w\\s]+)', expand=True)\n",
    "    \n",
    "    df['SourceFile'] = subdir[-7:] + '\\\\' + file\n",
    "    df['Divisions'] = file[file.find('-')+1:-4]\n",
    "    return df\n",
    "    "
   ]
  },
  {
   "cell_type": "code",
   "execution_count": null,
   "metadata": {
    "scrolled": true
   },
   "outputs": [],
   "source": [
    "import os\n",
    "import pandas as pd\n",
    "\n",
    "rootdir = r'C:\\Users\\Darkous\\00_ZADANIA\\src\\England'\n",
    "\n",
    "appended_data = []\n",
    "for subdir, dirs, files in os.walk(rootdir):\n",
    "    for file in files:\n",
    "        if '.csv' in file:\n",
    "            glue_files(rootdir, subdir, file)\n",
    "            #print(len(glue_files(rootdir, subdir, file)), subdir, file)\n",
    "            appended_data.append(glue_files(rootdir, subdir, file))\n",
    "    \n",
    "appended_data = pd.concat(appended_data, sort=False)\n",
    "appended_data['Team1ScoreFT'].fillna(0, inplace =True)\n",
    "appended_data['Team2ScoreFT'].fillna(0, inplace =True)\n",
    "appended_data['Team1ScoreHT'].fillna(0, inplace =True)\n",
    "appended_data['Team2ScoreHT'].fillna(0, inplace =True)\n",
    "\n",
    "appended_data['Team1ScoreFT'] = appended_data['Team1ScoreFT'].astype('int32')\n",
    "appended_data['Team2ScoreFT'] = appended_data['Team2ScoreFT'].astype('int32')\n",
    "appended_data['Team1ScoreHT'] = appended_data['Team1ScoreHT'].astype('int32')\n",
    "appended_data['Team2ScoreHT'] = appended_data['Team2ScoreHT'].astype('int32')\n",
    "\n",
    "#appended_data   "
   ]
  },
  {
   "cell_type": "code",
   "execution_count": null,
   "metadata": {},
   "outputs": [],
   "source": [
    "appended_data.to_excel(r'C:\\Users\\Darkous\\00_ZADANIA\\src\\EnglandData.xlsx')"
   ]
  }
 ],
 "metadata": {
  "kernelspec": {
   "display_name": "Python 3",
   "language": "python",
   "name": "python3"
  },
  "language_info": {
   "codemirror_mode": {
    "name": "ipython",
    "version": 3
   },
   "file_extension": ".py",
   "mimetype": "text/x-python",
   "name": "python",
   "nbconvert_exporter": "python",
   "pygments_lexer": "ipython3",
   "version": "3.7.1"
  }
 },
 "nbformat": 4,
 "nbformat_minor": 2
}
