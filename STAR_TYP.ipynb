{
 "cells": [
  {
   "cell_type": "code",
   "execution_count": 86,
   "metadata": {
    "scrolled": true
   },
   "outputs": [],
   "source": [
    "# Create function to work\n",
    "def glue_files(rootdir, subdir, file):\n",
    "    \n",
    "    country = rootdir[(rootdir.rfind('\\\\'))+1:]\n",
    "    df = pd.read_csv(subdir + '\\\\' + file)\n",
    "    \n",
    "    df['Country'] = country\n",
    "    df['YearMatch'] = df['Date'].str.extract('(\\d\\d\\d\\d)', expand=True)\n",
    "\n",
    "#     df.loc[df['FT'] != '?', 'Team1ScoreFT'] = df['FT'].str.extract('(^\\d+)')\n",
    "#     df.loc[df['FT'] != '?', 'Team2ScoreFT'] = df['FT'].str.extract('(\\d+$)')\n",
    "\n",
    "#     df.loc[df['HT'] != '?', 'Team1ScoreHT'] = df['HT'].str.extract('(^\\d+)', expand=True)\n",
    "#     df.loc[df['HT'] != '?', 'Team2ScoreHT'] = df['HT'].str.extract('(\\d+$)', expand=True)\n",
    "\n",
    "    AA['Team1ScoreFT'] = AA['FT'].str.extract('(^\\d+)', expand=True)\n",
    "    AA['Team2ScoreFT'] = AA['FT'].str.extract('(\\d+$)', expand=True)\n",
    "\n",
    "    AA['Team1ScoreHT'] = AA['HT'].str.extract('(^\\d+)', expand=True)\n",
    "    AA['Team2ScoreHT'] = AA['HT'].str.extract('(\\d+$)', expand=True)\n",
    "\n",
    "    df['Team_1'] = df['Team 1'].str.extract('(\\w*\\s\\w*\\s\\w*)', expand=True)\n",
    "    df['Team_2'] = df['Team 2'].str.extract('(\\w*\\s\\w*\\s\\w*)', expand=True)\n",
    "    \n",
    "    df['SourceFile'] = file\n",
    "    return df\n",
    "    "
   ]
  },
  {
   "cell_type": "code",
   "execution_count": 87,
   "metadata": {
    "scrolled": true
   },
   "outputs": [
    {
     "name": "stderr",
     "output_type": "stream",
     "text": [
      "J:\\Anaconda\\lib\\site-packages\\ipykernel_launcher.py:14: FutureWarning: Sorting because non-concatenation axis is not aligned. A future version\n",
      "of pandas will change to not sort by default.\n",
      "\n",
      "To accept the future behavior, pass 'sort=False'.\n",
      "\n",
      "To retain the current behavior and silence the warning, pass 'sort=True'.\n",
      "\n",
      "  \n"
     ]
    }
   ],
   "source": [
    "import os\n",
    "import pandas as pd\n",
    "\n",
    "rootdir = r'C:\\Users\\Darkous\\00_ZADANIA\\src\\England'\n",
    "\n",
    "appended_data = []\n",
    "for subdir, dirs, files in os.walk(rootdir):\n",
    "    for file in files:\n",
    "        if '.csv' in file:\n",
    "            #glue_files(rootdir, subdir, file)\n",
    "            #print(len(glue_files(rootdir, subdir, file)), subdir, file)\n",
    "            appended_data.append(glue_files(rootdir, subdir, file))\n",
    "    \n",
    "appended_data = pd.concat(appended_data)            \n",
    "#appended_data        "
   ]
  },
  {
   "cell_type": "code",
   "execution_count": 100,
   "metadata": {
    "scrolled": true
   },
   "outputs": [],
   "source": [
    "AA = appended_data.loc[appended_data['FT'] == '0-10']"
   ]
  },
  {
   "cell_type": "code",
   "execution_count": 21,
   "metadata": {},
   "outputs": [],
   "source": [
    "appended_data.to_excel(r'C:\\Users\\Darkous\\00_ZADANIA\\src\\EnglandData.xlsx')"
   ]
  },
  {
   "cell_type": "code",
   "execution_count": 101,
   "metadata": {},
   "outputs": [
    {
     "data": {
      "text/html": [
       "<div>\n",
       "<style scoped>\n",
       "    .dataframe tbody tr th:only-of-type {\n",
       "        vertical-align: middle;\n",
       "    }\n",
       "\n",
       "    .dataframe tbody tr th {\n",
       "        vertical-align: top;\n",
       "    }\n",
       "\n",
       "    .dataframe thead th {\n",
       "        text-align: right;\n",
       "    }\n",
       "</style>\n",
       "<table border=\"1\" class=\"dataframe\">\n",
       "  <thead>\n",
       "    <tr style=\"text-align: right;\">\n",
       "      <th></th>\n",
       "      <th>Country</th>\n",
       "      <th>Date</th>\n",
       "      <th>FT</th>\n",
       "      <th>HT</th>\n",
       "      <th>Round</th>\n",
       "      <th>SourceFile</th>\n",
       "      <th>Team 1</th>\n",
       "      <th>Team 2</th>\n",
       "      <th>Team1ScoreFT</th>\n",
       "      <th>Team1ScoreHT</th>\n",
       "      <th>Team2ScoreFT</th>\n",
       "      <th>Team2ScoreHT</th>\n",
       "      <th>Team_1</th>\n",
       "      <th>Team_2</th>\n",
       "      <th>YearMatch</th>\n",
       "    </tr>\n",
       "  </thead>\n",
       "  <tbody>\n",
       "    <tr>\n",
       "      <th>62</th>\n",
       "      <td>England</td>\n",
       "      <td>(Sat) 10 Dec 1892 (49)</td>\n",
       "      <td>0-10</td>\n",
       "      <td>?</td>\n",
       "      <td>?</td>\n",
       "      <td>2-division2.csv</td>\n",
       "      <td>Port Vale FC (13)</td>\n",
       "      <td>Sheffield United FC (10)</td>\n",
       "      <td>NaN</td>\n",
       "      <td>NaN</td>\n",
       "      <td>NaN</td>\n",
       "      <td>NaN</td>\n",
       "      <td>Port Vale FC</td>\n",
       "      <td>Sheffield United FC</td>\n",
       "      <td>1892</td>\n",
       "    </tr>\n",
       "  </tbody>\n",
       "</table>\n",
       "</div>"
      ],
      "text/plain": [
       "    Country                    Date    FT HT Round       SourceFile  \\\n",
       "62  England  (Sat) 10 Dec 1892 (49)  0-10  ?     ?  2-division2.csv   \n",
       "\n",
       "               Team 1                    Team 2  Team1ScoreFT  Team1ScoreHT  \\\n",
       "62  Port Vale FC (13)  Sheffield United FC (10)           NaN           NaN   \n",
       "\n",
       "    Team2ScoreFT  Team2ScoreHT        Team_1               Team_2 YearMatch  \n",
       "62           NaN           NaN  Port Vale FC  Sheffield United FC      1892  "
      ]
     },
     "execution_count": 101,
     "metadata": {},
     "output_type": "execute_result"
    }
   ],
   "source": [
    "AA"
   ]
  },
  {
   "cell_type": "code",
   "execution_count": null,
   "metadata": {},
   "outputs": [],
   "source": []
  }
 ],
 "metadata": {
  "kernelspec": {
   "display_name": "Python 3",
   "language": "python",
   "name": "python3"
  },
  "language_info": {
   "codemirror_mode": {
    "name": "ipython",
    "version": 3
   },
   "file_extension": ".py",
   "mimetype": "text/x-python",
   "name": "python",
   "nbconvert_exporter": "python",
   "pygments_lexer": "ipython3",
   "version": "3.7.1"
  }
 },
 "nbformat": 4,
 "nbformat_minor": 2
}
